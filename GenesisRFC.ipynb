{
  "nbformat": 4,
  "nbformat_minor": 0,
  "metadata": {
    "colab": {
      "provenance": [],
      "include_colab_link": true
    },
    "language_info": {
      "name": "python"
    },
    "kernelspec": {
      "name": "python3",
      "display_name": "Python 3"
    }
  },
  "cells": [
    {
      "cell_type": "markdown",
      "metadata": {
        "id": "view-in-github",
        "colab_type": "text"
      },
      "source": [
        "<a href=\"https://colab.research.google.com/github/VarunDronamraju/FakeProfileDetection/blob/main/GenesisRFC.ipynb\" target=\"_parent\"><img src=\"https://colab.research.google.com/assets/colab-badge.svg\" alt=\"Open In Colab\"/></a>"
      ]
    },
    {
      "cell_type": "markdown",
      "source": [
        "##Detect fake profiles in online social networks using Random Forest"
      ],
      "metadata": {
        "id": "WqyyxbsZTprZ"
      }
    },
    {
      "cell_type": "code",
      "source": [
        "\n",
        "import sys\n",
        "import csv\n",
        "import numpy as np\n",
        "import pandas as pd\n",
        "import matplotlib.pyplot as plt\n",
        "from datetime import datetime\n",
        "\n",
        "# import sexmachine.detector as gender\n",
        "from sklearn.impute import SimpleImputer\n",
        "from sklearn.model_selection import cross_val_score, train_test_split, GridSearchCV\n",
        "from sklearn import metrics\n",
        "from sklearn import preprocessing\n",
        "from sklearn.metrics import roc_curve, auc\n",
        "from sklearn.ensemble import RandomForestClassifier\n",
        "from sklearn.metrics import accuracy_score, classification_report, confusion_matrix\n",
        "\n",
        "# Display plots if you are not in a Jupyter notebook\n",
        "# plt.show()\n"
      ],
      "outputs": [],
      "metadata": {
        "id": "ybm20hTuTpra"
      },
      "execution_count": null
    },
    {
      "cell_type": "markdown",
      "source": [
        "######function for reading dataset from csv files"
      ],
      "metadata": {
        "id": "xXUaqv6gTprb"
      }
    },
    {
      "cell_type": "code",
      "source": [
        "\n",
        "def read_datasets():\n",
        "    \"\"\" Reads users profile from csv files \"\"\"\n",
        "    genuine_users = pd.read_csv(\"/content/users.csv\")\n",
        "    fake_users = pd.read_csv(\"/content/fusers.csv\")\n",
        "    # print genuine_users.columns\n",
        "    # print genuine_users.describe()\n",
        "    #print fake_users.describe()\n",
        "    x=pd.concat([genuine_users,fake_users])\n",
        "    y=len(fake_users)*[0] + len(genuine_users)*[1]\n",
        "    return x,y\n"
      ],
      "outputs": [],
      "metadata": {
        "id": "UX8mBrcDTprb"
      },
      "execution_count": null
    },
    {
      "cell_type": "markdown",
      "source": [
        "######function for feature engineering"
      ],
      "metadata": {
        "id": "fEeksriZTprc"
      }
    },
    {
      "cell_type": "code",
      "source": [
        "def extract_features(x):\n",
        "    lang_list = list(enumerate(np.unique(x['lang'])))\n",
        "    lang_dict = { name : i for i, name in lang_list }\n",
        "    x.loc[:,'lang_code'] = x['lang'].map( lambda x: lang_dict[x]).astype(int)\n",
        "    feature_columns_to_use = ['statuses_count','followers_count','friends_count','favourites_count','listed_count','lang_code']\n",
        "    x=x.loc[:,feature_columns_to_use]\n",
        "    return x"
      ],
      "outputs": [],
      "metadata": {
        "id": "6BjEcKoaTprc"
      },
      "execution_count": null
    },
    {
      "cell_type": "markdown",
      "source": [
        "######function for ploting learning curve"
      ],
      "metadata": {
        "id": "oz4Jx3pzTprc"
      }
    },
    {
      "cell_type": "code",
      "source": [
        "def plot_learning_curve(estimator, title, X, y, ylim=None, cv=None,\n",
        "                        n_jobs=1, train_sizes=np.linspace(.1, 1.0, 5)):\n",
        "\n",
        "    plt.figure()\n",
        "    plt.title(title)\n",
        "    if ylim is not None:\n",
        "        plt.ylim(*ylim)\n",
        "    plt.xlabel(\"Training examples\")\n",
        "    plt.ylabel(\"Score\")\n",
        "    train_sizes, train_scores, test_scores = learning_curve(\n",
        "        estimator, X, y, cv=cv, n_jobs=n_jobs, train_sizes=train_sizes)\n",
        "    train_scores_mean = np.mean(train_scores, axis=1)\n",
        "    train_scores_std = np.std(train_scores, axis=1)\n",
        "    test_scores_mean = np.mean(test_scores, axis=1)\n",
        "    test_scores_std = np.std(test_scores, axis=1)\n",
        "    plt.grid()\n",
        "\n",
        "    plt.fill_between(train_sizes, train_scores_mean - train_scores_std,\n",
        "                     train_scores_mean + train_scores_std, alpha=0.1,\n",
        "                     color=\"r\")\n",
        "    plt.fill_between(train_sizes, test_scores_mean - test_scores_std,\n",
        "                     test_scores_mean + test_scores_std, alpha=0.1, color=\"g\")\n",
        "    plt.plot(train_sizes, train_scores_mean, 'o-', color=\"r\",\n",
        "             label=\"Training score\")\n",
        "    plt.plot(train_sizes, test_scores_mean, 'o-', color=\"g\",\n",
        "             label=\"Cross-validation score\")\n",
        "\n",
        "    plt.legend(loc=\"best\")\n",
        "    return plt"
      ],
      "outputs": [],
      "metadata": {
        "id": "7DIIutFeTprc"
      },
      "execution_count": null
    },
    {
      "cell_type": "markdown",
      "source": [
        "######function for plotting confusion matrix"
      ],
      "metadata": {
        "id": "bEeCOEG5Tprc"
      }
    },
    {
      "cell_type": "code",
      "source": [
        "def plot_confusion_matrix(cm, title='Confusion matrix', cmap=plt.cm.Blues):\n",
        "    target_names=['Fake','Genuine']\n",
        "    plt.imshow(cm, interpolation='nearest', cmap=cmap)\n",
        "    plt.title(title)\n",
        "    plt.colorbar()\n",
        "    tick_marks = np.arange(len(target_names))\n",
        "    plt.xticks(tick_marks, target_names, rotation=45)\n",
        "    plt.yticks(tick_marks, target_names)\n",
        "    plt.tight_layout()\n",
        "    plt.ylabel('True label')\n",
        "    plt.xlabel('Predicted label')"
      ],
      "outputs": [],
      "metadata": {
        "id": "bltjuOrcTprd"
      },
      "execution_count": null
    },
    {
      "cell_type": "markdown",
      "source": [
        "######function for plotting ROC curve"
      ],
      "metadata": {
        "id": "JTdBcDSnTprd"
      }
    },
    {
      "cell_type": "code",
      "source": [
        "import matplotlib.pyplot as plt\n",
        "from sklearn.metrics import roc_curve, auc\n",
        "\n",
        "def plot_roc_curve(y_test, y_pred):\n",
        "    false_positive_rate, true_positive_rate, thresholds = roc_curve(y_test, y_pred)\n",
        "    roc_auc = auc(false_positive_rate, true_positive_rate)\n",
        "\n",
        "    plt.title('Receiver Operating Characteristic')\n",
        "    plt.plot(false_positive_rate, true_positive_rate, 'b',\n",
        "             label='AUC = %0.2f' % roc_auc)\n",
        "    plt.legend(loc='lower right')\n",
        "    plt.plot([0, 1], [0, 1], 'r--')\n",
        "    plt.xlim([-0.1, 1.2])\n",
        "    plt.ylim([-0.1, 1.2])\n",
        "    plt.ylabel('True Positive Rate')\n",
        "    plt.xlabel('False Positive Rate')\n",
        "    plt.show()\n",
        "\n",
        "# Example usage:\n",
        "# Replace y_test and y_pred with your actual data\n",
        "# plot_roc_curve(y_test, y_pred)\n"
      ],
      "outputs": [],
      "metadata": {
        "id": "bdU-nTJrTprd"
      },
      "execution_count": null
    },
    {
      "cell_type": "markdown",
      "source": [
        "######Function for training data using Random Forest"
      ],
      "metadata": {
        "id": "MnLnmpNgTprd"
      }
    },
    {
      "cell_type": "code",
      "source": [
        "import matplotlib.pyplot as plt\n",
        "from sklearn.model_selection import cross_val_score, learning_curve\n",
        "from sklearn.ensemble import RandomForestClassifier\n",
        "\n",
        "def train(X_train, y_train, X_test):\n",
        "    \"\"\" Trains and predicts dataset with a Random Forest classifier \"\"\"\n",
        "\n",
        "    clf = RandomForestClassifier(n_estimators=40, oob_score=True)\n",
        "    clf.fit(X_train, y_train)\n",
        "    print(\"The best classifier is: \", clf)\n",
        "\n",
        "    # Estimate score\n",
        "    scores = cross_val_score(clf, X_train, y_train, cv=5)\n",
        "    print(\"Scores:\", scores)\n",
        "    print('Estimated score: %0.5f (+/- %0.5f)' % (scores.mean(), scores.std() / 2))\n",
        "\n",
        "    title = 'Learning Curves (Random Forest)'\n",
        "    plot_learning_curve(clf, title, X_train, y_train, cv=5)\n",
        "\n",
        "    # Predict\n",
        "    y_pred = clf.predict(X_test)\n",
        "\n",
        "    return y_pred\n",
        "\n",
        "# You should define and pass the actual X_test and y_test data when calling the function.\n",
        "# y_test_predicted = train(X_train, y_train, X_test)\n"
      ],
      "outputs": [],
      "metadata": {
        "id": "H646DxNVTprd"
      },
      "execution_count": null
    },
    {
      "cell_type": "code",
      "source": [
        "print(\"reading datasets.....\\n\")\n",
        "x, y = read_datasets()\n",
        "x.describe()\n"
      ],
      "outputs": [
        {
          "output_type": "stream",
          "name": "stdout",
          "text": [
            "reading datasets.....\n",
            "\n"
          ]
        },
        {
          "output_type": "execute_result",
          "data": {
            "text/plain": [
              "                 id  statuses_count  followers_count  friends_count  \\\n",
              "count  2.818000e+03     2818.000000      2818.000000    2818.000000   \n",
              "mean   5.374889e+08     1672.198368       371.105039     395.363023   \n",
              "std    2.977005e+08     4884.669157      8022.631339     465.694322   \n",
              "min    3.610511e+06        0.000000         0.000000       0.000000   \n",
              "25%    3.620867e+08       35.000000        17.000000     168.000000   \n",
              "50%    6.162253e+08       77.000000        26.000000     306.000000   \n",
              "75%    6.177673e+08     1087.750000       111.000000     519.000000   \n",
              "max    1.391998e+09    79876.000000    408372.000000   12773.000000   \n",
              "\n",
              "       favourites_count  listed_count  default_profile  default_profile_image  \\\n",
              "count       2818.000000   2818.000000           1728.0                    8.0   \n",
              "mean         234.541164      2.818666              1.0                    1.0   \n",
              "std         1445.847248     23.480430              0.0                    0.0   \n",
              "min            0.000000      0.000000              1.0                    1.0   \n",
              "25%            0.000000      0.000000              1.0                    1.0   \n",
              "50%            0.000000      0.000000              1.0                    1.0   \n",
              "75%           37.000000      1.000000              1.0                    1.0   \n",
              "max        44349.000000    744.000000              1.0                    1.0   \n",
              "\n",
              "       geo_enabled  profile_use_background_image  profile_background_tile  \\\n",
              "count        721.0                        2760.0                    489.0   \n",
              "mean           1.0                           1.0                      1.0   \n",
              "std            0.0                           0.0                      0.0   \n",
              "min            1.0                           1.0                      1.0   \n",
              "25%            1.0                           1.0                      1.0   \n",
              "50%            1.0                           1.0                      1.0   \n",
              "75%            1.0                           1.0                      1.0   \n",
              "max            1.0                           1.0                      1.0   \n",
              "\n",
              "         utc_offset  protected  verified  \n",
              "count   1069.000000        0.0       0.0  \n",
              "mean    1478.391020        NaN       NaN  \n",
              "std     8108.211889        NaN       NaN  \n",
              "min   -39600.000000        NaN       NaN  \n",
              "25%     3600.000000        NaN       NaN  \n",
              "50%     3600.000000        NaN       NaN  \n",
              "75%     3600.000000        NaN       NaN  \n",
              "max    36000.000000        NaN       NaN  "
            ],
            "text/html": [
              "\n",
              "  <div id=\"df-9797de6a-7d32-43c9-945a-ec0b7e26a5e5\" class=\"colab-df-container\">\n",
              "    <div>\n",
              "<style scoped>\n",
              "    .dataframe tbody tr th:only-of-type {\n",
              "        vertical-align: middle;\n",
              "    }\n",
              "\n",
              "    .dataframe tbody tr th {\n",
              "        vertical-align: top;\n",
              "    }\n",
              "\n",
              "    .dataframe thead th {\n",
              "        text-align: right;\n",
              "    }\n",
              "</style>\n",
              "<table border=\"1\" class=\"dataframe\">\n",
              "  <thead>\n",
              "    <tr style=\"text-align: right;\">\n",
              "      <th></th>\n",
              "      <th>id</th>\n",
              "      <th>statuses_count</th>\n",
              "      <th>followers_count</th>\n",
              "      <th>friends_count</th>\n",
              "      <th>favourites_count</th>\n",
              "      <th>listed_count</th>\n",
              "      <th>default_profile</th>\n",
              "      <th>default_profile_image</th>\n",
              "      <th>geo_enabled</th>\n",
              "      <th>profile_use_background_image</th>\n",
              "      <th>profile_background_tile</th>\n",
              "      <th>utc_offset</th>\n",
              "      <th>protected</th>\n",
              "      <th>verified</th>\n",
              "    </tr>\n",
              "  </thead>\n",
              "  <tbody>\n",
              "    <tr>\n",
              "      <th>count</th>\n",
              "      <td>2.818000e+03</td>\n",
              "      <td>2818.000000</td>\n",
              "      <td>2818.000000</td>\n",
              "      <td>2818.000000</td>\n",
              "      <td>2818.000000</td>\n",
              "      <td>2818.000000</td>\n",
              "      <td>1728.0</td>\n",
              "      <td>8.0</td>\n",
              "      <td>721.0</td>\n",
              "      <td>2760.0</td>\n",
              "      <td>489.0</td>\n",
              "      <td>1069.000000</td>\n",
              "      <td>0.0</td>\n",
              "      <td>0.0</td>\n",
              "    </tr>\n",
              "    <tr>\n",
              "      <th>mean</th>\n",
              "      <td>5.374889e+08</td>\n",
              "      <td>1672.198368</td>\n",
              "      <td>371.105039</td>\n",
              "      <td>395.363023</td>\n",
              "      <td>234.541164</td>\n",
              "      <td>2.818666</td>\n",
              "      <td>1.0</td>\n",
              "      <td>1.0</td>\n",
              "      <td>1.0</td>\n",
              "      <td>1.0</td>\n",
              "      <td>1.0</td>\n",
              "      <td>1478.391020</td>\n",
              "      <td>NaN</td>\n",
              "      <td>NaN</td>\n",
              "    </tr>\n",
              "    <tr>\n",
              "      <th>std</th>\n",
              "      <td>2.977005e+08</td>\n",
              "      <td>4884.669157</td>\n",
              "      <td>8022.631339</td>\n",
              "      <td>465.694322</td>\n",
              "      <td>1445.847248</td>\n",
              "      <td>23.480430</td>\n",
              "      <td>0.0</td>\n",
              "      <td>0.0</td>\n",
              "      <td>0.0</td>\n",
              "      <td>0.0</td>\n",
              "      <td>0.0</td>\n",
              "      <td>8108.211889</td>\n",
              "      <td>NaN</td>\n",
              "      <td>NaN</td>\n",
              "    </tr>\n",
              "    <tr>\n",
              "      <th>min</th>\n",
              "      <td>3.610511e+06</td>\n",
              "      <td>0.000000</td>\n",
              "      <td>0.000000</td>\n",
              "      <td>0.000000</td>\n",
              "      <td>0.000000</td>\n",
              "      <td>0.000000</td>\n",
              "      <td>1.0</td>\n",
              "      <td>1.0</td>\n",
              "      <td>1.0</td>\n",
              "      <td>1.0</td>\n",
              "      <td>1.0</td>\n",
              "      <td>-39600.000000</td>\n",
              "      <td>NaN</td>\n",
              "      <td>NaN</td>\n",
              "    </tr>\n",
              "    <tr>\n",
              "      <th>25%</th>\n",
              "      <td>3.620867e+08</td>\n",
              "      <td>35.000000</td>\n",
              "      <td>17.000000</td>\n",
              "      <td>168.000000</td>\n",
              "      <td>0.000000</td>\n",
              "      <td>0.000000</td>\n",
              "      <td>1.0</td>\n",
              "      <td>1.0</td>\n",
              "      <td>1.0</td>\n",
              "      <td>1.0</td>\n",
              "      <td>1.0</td>\n",
              "      <td>3600.000000</td>\n",
              "      <td>NaN</td>\n",
              "      <td>NaN</td>\n",
              "    </tr>\n",
              "    <tr>\n",
              "      <th>50%</th>\n",
              "      <td>6.162253e+08</td>\n",
              "      <td>77.000000</td>\n",
              "      <td>26.000000</td>\n",
              "      <td>306.000000</td>\n",
              "      <td>0.000000</td>\n",
              "      <td>0.000000</td>\n",
              "      <td>1.0</td>\n",
              "      <td>1.0</td>\n",
              "      <td>1.0</td>\n",
              "      <td>1.0</td>\n",
              "      <td>1.0</td>\n",
              "      <td>3600.000000</td>\n",
              "      <td>NaN</td>\n",
              "      <td>NaN</td>\n",
              "    </tr>\n",
              "    <tr>\n",
              "      <th>75%</th>\n",
              "      <td>6.177673e+08</td>\n",
              "      <td>1087.750000</td>\n",
              "      <td>111.000000</td>\n",
              "      <td>519.000000</td>\n",
              "      <td>37.000000</td>\n",
              "      <td>1.000000</td>\n",
              "      <td>1.0</td>\n",
              "      <td>1.0</td>\n",
              "      <td>1.0</td>\n",
              "      <td>1.0</td>\n",
              "      <td>1.0</td>\n",
              "      <td>3600.000000</td>\n",
              "      <td>NaN</td>\n",
              "      <td>NaN</td>\n",
              "    </tr>\n",
              "    <tr>\n",
              "      <th>max</th>\n",
              "      <td>1.391998e+09</td>\n",
              "      <td>79876.000000</td>\n",
              "      <td>408372.000000</td>\n",
              "      <td>12773.000000</td>\n",
              "      <td>44349.000000</td>\n",
              "      <td>744.000000</td>\n",
              "      <td>1.0</td>\n",
              "      <td>1.0</td>\n",
              "      <td>1.0</td>\n",
              "      <td>1.0</td>\n",
              "      <td>1.0</td>\n",
              "      <td>36000.000000</td>\n",
              "      <td>NaN</td>\n",
              "      <td>NaN</td>\n",
              "    </tr>\n",
              "  </tbody>\n",
              "</table>\n",
              "</div>\n",
              "    <div class=\"colab-df-buttons\">\n",
              "\n",
              "  <div class=\"colab-df-container\">\n",
              "    <button class=\"colab-df-convert\" onclick=\"convertToInteractive('df-9797de6a-7d32-43c9-945a-ec0b7e26a5e5')\"\n",
              "            title=\"Convert this dataframe to an interactive table.\"\n",
              "            style=\"display:none;\">\n",
              "\n",
              "  <svg xmlns=\"http://www.w3.org/2000/svg\" height=\"24px\" viewBox=\"0 -960 960 960\">\n",
              "    <path d=\"M120-120v-720h720v720H120Zm60-500h600v-160H180v160Zm220 220h160v-160H400v160Zm0 220h160v-160H400v160ZM180-400h160v-160H180v160Zm440 0h160v-160H620v160ZM180-180h160v-160H180v160Zm440 0h160v-160H620v160Z\"/>\n",
              "  </svg>\n",
              "    </button>\n",
              "\n",
              "  <style>\n",
              "    .colab-df-container {\n",
              "      display:flex;\n",
              "      gap: 12px;\n",
              "    }\n",
              "\n",
              "    .colab-df-convert {\n",
              "      background-color: #E8F0FE;\n",
              "      border: none;\n",
              "      border-radius: 50%;\n",
              "      cursor: pointer;\n",
              "      display: none;\n",
              "      fill: #1967D2;\n",
              "      height: 32px;\n",
              "      padding: 0 0 0 0;\n",
              "      width: 32px;\n",
              "    }\n",
              "\n",
              "    .colab-df-convert:hover {\n",
              "      background-color: #E2EBFA;\n",
              "      box-shadow: 0px 1px 2px rgba(60, 64, 67, 0.3), 0px 1px 3px 1px rgba(60, 64, 67, 0.15);\n",
              "      fill: #174EA6;\n",
              "    }\n",
              "\n",
              "    .colab-df-buttons div {\n",
              "      margin-bottom: 4px;\n",
              "    }\n",
              "\n",
              "    [theme=dark] .colab-df-convert {\n",
              "      background-color: #3B4455;\n",
              "      fill: #D2E3FC;\n",
              "    }\n",
              "\n",
              "    [theme=dark] .colab-df-convert:hover {\n",
              "      background-color: #434B5C;\n",
              "      box-shadow: 0px 1px 3px 1px rgba(0, 0, 0, 0.15);\n",
              "      filter: drop-shadow(0px 1px 2px rgba(0, 0, 0, 0.3));\n",
              "      fill: #FFFFFF;\n",
              "    }\n",
              "  </style>\n",
              "\n",
              "    <script>\n",
              "      const buttonEl =\n",
              "        document.querySelector('#df-9797de6a-7d32-43c9-945a-ec0b7e26a5e5 button.colab-df-convert');\n",
              "      buttonEl.style.display =\n",
              "        google.colab.kernel.accessAllowed ? 'block' : 'none';\n",
              "\n",
              "      async function convertToInteractive(key) {\n",
              "        const element = document.querySelector('#df-9797de6a-7d32-43c9-945a-ec0b7e26a5e5');\n",
              "        const dataTable =\n",
              "          await google.colab.kernel.invokeFunction('convertToInteractive',\n",
              "                                                    [key], {});\n",
              "        if (!dataTable) return;\n",
              "\n",
              "        const docLinkHtml = 'Like what you see? Visit the ' +\n",
              "          '<a target=\"_blank\" href=https://colab.research.google.com/notebooks/data_table.ipynb>data table notebook</a>'\n",
              "          + ' to learn more about interactive tables.';\n",
              "        element.innerHTML = '';\n",
              "        dataTable['output_type'] = 'display_data';\n",
              "        await google.colab.output.renderOutput(dataTable, element);\n",
              "        const docLink = document.createElement('div');\n",
              "        docLink.innerHTML = docLinkHtml;\n",
              "        element.appendChild(docLink);\n",
              "      }\n",
              "    </script>\n",
              "  </div>\n",
              "\n",
              "\n",
              "<div id=\"df-d7a73b48-a390-406c-b03d-683c1035d77f\">\n",
              "  <button class=\"colab-df-quickchart\" onclick=\"quickchart('df-d7a73b48-a390-406c-b03d-683c1035d77f')\"\n",
              "            title=\"Suggest charts.\"\n",
              "            style=\"display:none;\">\n",
              "\n",
              "<svg xmlns=\"http://www.w3.org/2000/svg\" height=\"24px\"viewBox=\"0 0 24 24\"\n",
              "     width=\"24px\">\n",
              "    <g>\n",
              "        <path d=\"M19 3H5c-1.1 0-2 .9-2 2v14c0 1.1.9 2 2 2h14c1.1 0 2-.9 2-2V5c0-1.1-.9-2-2-2zM9 17H7v-7h2v7zm4 0h-2V7h2v10zm4 0h-2v-4h2v4z\"/>\n",
              "    </g>\n",
              "</svg>\n",
              "  </button>\n",
              "\n",
              "<style>\n",
              "  .colab-df-quickchart {\n",
              "      --bg-color: #E8F0FE;\n",
              "      --fill-color: #1967D2;\n",
              "      --hover-bg-color: #E2EBFA;\n",
              "      --hover-fill-color: #174EA6;\n",
              "      --disabled-fill-color: #AAA;\n",
              "      --disabled-bg-color: #DDD;\n",
              "  }\n",
              "\n",
              "  [theme=dark] .colab-df-quickchart {\n",
              "      --bg-color: #3B4455;\n",
              "      --fill-color: #D2E3FC;\n",
              "      --hover-bg-color: #434B5C;\n",
              "      --hover-fill-color: #FFFFFF;\n",
              "      --disabled-bg-color: #3B4455;\n",
              "      --disabled-fill-color: #666;\n",
              "  }\n",
              "\n",
              "  .colab-df-quickchart {\n",
              "    background-color: var(--bg-color);\n",
              "    border: none;\n",
              "    border-radius: 50%;\n",
              "    cursor: pointer;\n",
              "    display: none;\n",
              "    fill: var(--fill-color);\n",
              "    height: 32px;\n",
              "    padding: 0;\n",
              "    width: 32px;\n",
              "  }\n",
              "\n",
              "  .colab-df-quickchart:hover {\n",
              "    background-color: var(--hover-bg-color);\n",
              "    box-shadow: 0 1px 2px rgba(60, 64, 67, 0.3), 0 1px 3px 1px rgba(60, 64, 67, 0.15);\n",
              "    fill: var(--button-hover-fill-color);\n",
              "  }\n",
              "\n",
              "  .colab-df-quickchart-complete:disabled,\n",
              "  .colab-df-quickchart-complete:disabled:hover {\n",
              "    background-color: var(--disabled-bg-color);\n",
              "    fill: var(--disabled-fill-color);\n",
              "    box-shadow: none;\n",
              "  }\n",
              "\n",
              "  .colab-df-spinner {\n",
              "    border: 2px solid var(--fill-color);\n",
              "    border-color: transparent;\n",
              "    border-bottom-color: var(--fill-color);\n",
              "    animation:\n",
              "      spin 1s steps(1) infinite;\n",
              "  }\n",
              "\n",
              "  @keyframes spin {\n",
              "    0% {\n",
              "      border-color: transparent;\n",
              "      border-bottom-color: var(--fill-color);\n",
              "      border-left-color: var(--fill-color);\n",
              "    }\n",
              "    20% {\n",
              "      border-color: transparent;\n",
              "      border-left-color: var(--fill-color);\n",
              "      border-top-color: var(--fill-color);\n",
              "    }\n",
              "    30% {\n",
              "      border-color: transparent;\n",
              "      border-left-color: var(--fill-color);\n",
              "      border-top-color: var(--fill-color);\n",
              "      border-right-color: var(--fill-color);\n",
              "    }\n",
              "    40% {\n",
              "      border-color: transparent;\n",
              "      border-right-color: var(--fill-color);\n",
              "      border-top-color: var(--fill-color);\n",
              "    }\n",
              "    60% {\n",
              "      border-color: transparent;\n",
              "      border-right-color: var(--fill-color);\n",
              "    }\n",
              "    80% {\n",
              "      border-color: transparent;\n",
              "      border-right-color: var(--fill-color);\n",
              "      border-bottom-color: var(--fill-color);\n",
              "    }\n",
              "    90% {\n",
              "      border-color: transparent;\n",
              "      border-bottom-color: var(--fill-color);\n",
              "    }\n",
              "  }\n",
              "</style>\n",
              "\n",
              "  <script>\n",
              "    async function quickchart(key) {\n",
              "      const quickchartButtonEl =\n",
              "        document.querySelector('#' + key + ' button');\n",
              "      quickchartButtonEl.disabled = true;  // To prevent multiple clicks.\n",
              "      quickchartButtonEl.classList.add('colab-df-spinner');\n",
              "      try {\n",
              "        const charts = await google.colab.kernel.invokeFunction(\n",
              "            'suggestCharts', [key], {});\n",
              "      } catch (error) {\n",
              "        console.error('Error during call to suggestCharts:', error);\n",
              "      }\n",
              "      quickchartButtonEl.classList.remove('colab-df-spinner');\n",
              "      quickchartButtonEl.classList.add('colab-df-quickchart-complete');\n",
              "    }\n",
              "    (() => {\n",
              "      let quickchartButtonEl =\n",
              "        document.querySelector('#df-d7a73b48-a390-406c-b03d-683c1035d77f button');\n",
              "      quickchartButtonEl.style.display =\n",
              "        google.colab.kernel.accessAllowed ? 'block' : 'none';\n",
              "    })();\n",
              "  </script>\n",
              "</div>\n",
              "    </div>\n",
              "  </div>\n"
            ]
          },
          "metadata": {},
          "execution_count": 77
        }
      ],
      "metadata": {
        "colab": {
          "base_uri": "https://localhost:8080/",
          "height": 355
        },
        "id": "ZiIbLZZ5Tprd",
        "outputId": "89adc277-d142-4cd7-f328-9b0785ab9ca8"
      },
      "execution_count": null
    },
    {
      "cell_type": "code",
      "source": [
        "print(\"extracting features.....\\n\")\n",
        "x = extract_features(x)\n",
        "print(x.columns)\n",
        "print(x.describe())\n"
      ],
      "outputs": [
        {
          "output_type": "stream",
          "name": "stdout",
          "text": [
            "extracting features.....\n",
            "\n",
            "Index(['statuses_count', 'followers_count', 'friends_count',\n",
            "       'favourites_count', 'listed_count', 'lang_code'],\n",
            "      dtype='object')\n",
            "       statuses_count  followers_count  friends_count  favourites_count  \\\n",
            "count     2818.000000      2818.000000    2818.000000       2818.000000   \n",
            "mean      1672.198368       371.105039     395.363023        234.541164   \n",
            "std       4884.669157      8022.631339     465.694322       1445.847248   \n",
            "min          0.000000         0.000000       0.000000          0.000000   \n",
            "25%         35.000000        17.000000     168.000000          0.000000   \n",
            "50%         77.000000        26.000000     306.000000          0.000000   \n",
            "75%       1087.750000       111.000000     519.000000         37.000000   \n",
            "max      79876.000000    408372.000000   12773.000000      44349.000000   \n",
            "\n",
            "       listed_count    lang_code  \n",
            "count   2818.000000  2818.000000  \n",
            "mean       2.818666     2.851313  \n",
            "std       23.480430     1.992950  \n",
            "min        0.000000     0.000000  \n",
            "25%        0.000000     1.000000  \n",
            "50%        0.000000     1.000000  \n",
            "75%        1.000000     5.000000  \n",
            "max      744.000000     7.000000  \n"
          ]
        }
      ],
      "metadata": {
        "colab": {
          "base_uri": "https://localhost:8080/"
        },
        "id": "_r1ehymDTpre",
        "outputId": "3e96f8bb-c2c4-423d-fbc8-5e83e00a44af"
      },
      "execution_count": null
    },
    {
      "cell_type": "code",
      "source": [
        "print(\"splitting datasets in train and test dataset...\\n\")\n",
        "X_train, X_test, y_train, y_test = train_test_split(x, y, test_size=0.20, random_state=44)\n"
      ],
      "outputs": [
        {
          "output_type": "stream",
          "name": "stdout",
          "text": [
            "splitting datasets in train and test dataset...\n",
            "\n"
          ]
        }
      ],
      "metadata": {
        "colab": {
          "base_uri": "https://localhost:8080/"
        },
        "id": "3hPYU4QQTpre",
        "outputId": "14ddc5d6-e5cb-46cc-e2cb-a9c86d233c9e"
      },
      "execution_count": null
    },
    {
      "cell_type": "code",
      "source": [
        "print(\"training datasets.......\\n\")\n",
        "y_test = train(X_train, y_train, X_test)\n"
      ],
      "outputs": [
        {
          "output_type": "stream",
          "name": "stdout",
          "text": [
            "training datasets.......\n",
            "\n",
            "The best classifier is:  RandomForestClassifier(n_estimators=40, oob_score=True)\n",
            "Scores: [0.93791574 0.93569845 0.94235033 0.94678492 0.94222222]\n",
            "Estimated score: 0.94099 (+/- 0.00193)\n"
          ]
        },
        {
          "output_type": "display_data",
          "data": {
            "text/plain": [
              "<Figure size 640x480 with 1 Axes>"
            ],
            "image/png": "[encoded data removed]"
          },
          "metadata": {}
        }
      ],
      "metadata": {
        "colab": {
          "base_uri": "https://localhost:8080/",
          "height": 559
        },
        "id": "-cpcL0OnTpre",
        "outputId": "2f03472a-2105-4f0c-c260-533b4e20b3fd"
      },
      "execution_count": null
    },
    {
      "cell_type": "code",
      "source": [
        "print(\"training datasets.......\\n\")\n",
        "y_pred = train(X_train, y_train, X_test)\n"
      ],
      "outputs": [
        {
          "output_type": "stream",
          "name": "stdout",
          "text": [
            "training datasets.......\n",
            "\n",
            "The best classifier is:  RandomForestClassifier(n_estimators=40, oob_score=True)\n",
            "Scores: [0.93348115 0.93569845 0.94013304 0.95343681 0.94      ]\n",
            "Estimated score: 0.94055 (+/- 0.00346)\n"
          ]
        },
        {
          "output_type": "display_data",
          "data": {
            "text/plain": [
              "<Figure size 640x480 with 1 Axes>"
            ],
            "image/png": "[encoded data removed]"
          },
          "metadata": {}
        }
      ],
      "metadata": {
        "colab": {
          "base_uri": "https://localhost:8080/",
          "height": 559
        },
        "id": "6WTcW62xTpre",
        "outputId": "bf43e2d8-a428-4146-cfa8-a8dbc79dd64c"
      },
      "execution_count": null
    },
    {
      "cell_type": "code",
      "source": [
        "from sklearn.metrics import confusion_matrix\n",
        "import seaborn as sns\n",
        "import matplotlib.pyplot as plt\n",
        "\n",
        "def plot_confusion_matrix(cm):\n",
        "    plt.figure(figsize=(8, 6))\n",
        "    sns.heatmap(cm, annot=True, fmt=\"d\", cmap=\"Blues\", cbar=False)\n",
        "    plt.xlabel('Predicted')\n",
        "    plt.ylabel('True')\n",
        "    plt.title('Confusion Matrix')\n",
        "    plt.show()\n",
        "\n",
        "cm = confusion_matrix(y_test, y_pred)\n",
        "print('Confusion matrix, without normalization:')\n",
        "print(cm)\n",
        "plot_confusion_matrix(cm)\n"
      ],
      "outputs": [
        {
          "output_type": "stream",
          "name": "stdout",
          "text": [
            "Confusion matrix, without normalization:\n",
            "[[297   0]\n",
            " [  0 267]]\n"
          ]
        },
        {
          "output_type": "display_data",
          "data": {
            "text/plain": [
              "<Figure size 800x600 with 1 Axes>"
            ],
            "image/png": "[encoded data removed]"
          },
          "metadata": {}
        }
      ],
      "metadata": {
        "colab": {
          "base_uri": "https://localhost:8080/",
          "height": 586
        },
        "id": "L48h_AEbTpre",
        "outputId": "bd84836f-c32e-4a28-ba7a-492bde2b396e"
      },
      "execution_count": null
    },
    {
      "cell_type": "code",
      "source": [
        "cm_normalized = cm.astype('float') / cm.sum(axis=1)[:, np.newaxis]\n",
        "print('Normalized confusion matrix')\n",
        "print(cm_normalized)\n"
      ],
      "outputs": [
        {
          "output_type": "stream",
          "name": "stdout",
          "text": [
            "Normalized confusion matrix\n",
            "[[1. 0.]\n",
            " [0. 1.]]\n"
          ]
        }
      ],
      "metadata": {
        "colab": {
          "base_uri": "https://localhost:8080/"
        },
        "id": "aMlob2dkTprf",
        "outputId": "da7c9152-e2d9-4285-9737-cd9565080bac"
      },
      "execution_count": null
    },
    {
      "cell_type": "code",
      "source": [
        "print(classification_report(y_test, y_pred, target_names=['Fake','Genuine']))"
      ],
      "outputs": [
        {
          "output_type": "stream",
          "name": "stdout",
          "text": [
            "              precision    recall  f1-score   support\n",
            "\n",
            "        Fake       1.00      1.00      1.00       297\n",
            "     Genuine       1.00      1.00      1.00       267\n",
            "\n",
            "    accuracy                           1.00       564\n",
            "   macro avg       1.00      1.00      1.00       564\n",
            "weighted avg       1.00      1.00      1.00       564\n",
            "\n"
          ]
        }
      ],
      "metadata": {
        "colab": {
          "base_uri": "https://localhost:8080/"
        },
        "id": "YeE19AVETprf",
        "outputId": "003fa018-6b28-4b51-bae9-b9dd7af2f9e6"
      },
      "execution_count": null
    },
    {
      "cell_type": "code",
      "source": [
        " xx=plot_roc_curve(y_test, y_pred)\n",
        " print(xx)"
      ],
      "outputs": [
        {
          "output_type": "display_data",
          "data": {
            "text/plain": [
              "<Figure size 640x480 with 1 Axes>"
            ],
            "image/png": "[encoded data removed]"
          },
          "metadata": {}
        },
        {
          "output_type": "stream",
          "name": "stdout",
          "text": [
            "None\n"
          ]
        }
      ],
      "metadata": {
        "colab": {
          "base_uri": "https://localhost:8080/",
          "height": 489
        },
        "id": "oiSaUW6mTprf",
        "outputId": "a0b83e21-3048-4a35-a043-7716b55a9bef"
      },
      "execution_count": null
    }
  ]
}